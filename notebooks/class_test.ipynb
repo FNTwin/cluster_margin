{
 "cells": [
  {
   "cell_type": "code",
   "execution_count": 2,
   "metadata": {},
   "outputs": [],
   "source": [
    "import datamol as dm \n",
    "import numpy as np\n",
    "import matplotlib.pyplot as plt\n",
    "from sklearn.cluster import AgglomerativeClustering\n",
    "from umap import UMAP\n",
    "from scipy.cluster import hierarchy\n",
    "import random \n",
    "import torch\n",
    "from random import shuffle\n",
    "from cluster_margin.cluster_margin_dummy import ClusterMargin\n",
    "import pytorch_lightning as pl \n",
    "\n",
    "\n",
    "%load_ext autoreload\n",
    "%autoreload 2\n"
   ]
  },
  {
   "cell_type": "code",
   "execution_count": 3,
   "metadata": {},
   "outputs": [],
   "source": [
    "from cluster_margin.utils import get_dummy_data"
   ]
  },
  {
   "cell_type": "code",
   "execution_count": 18,
   "metadata": {},
   "outputs": [
    {
     "data": {
      "text/html": [
       "<div>\n",
       "<style scoped>\n",
       "    .dataframe tbody tr th:only-of-type {\n",
       "        vertical-align: middle;\n",
       "    }\n",
       "\n",
       "    .dataframe tbody tr th {\n",
       "        vertical-align: top;\n",
       "    }\n",
       "\n",
       "    .dataframe thead th {\n",
       "        text-align: right;\n",
       "    }\n",
       "</style>\n",
       "<table border=\"1\" class=\"dataframe\">\n",
       "  <thead>\n",
       "    <tr style=\"text-align: right;\">\n",
       "      <th></th>\n",
       "      <th>smiles</th>\n",
       "      <th>mol</th>\n",
       "      <th>fp</th>\n",
       "      <th>x</th>\n",
       "      <th>y</th>\n",
       "      <th>prob0</th>\n",
       "      <th>prob1</th>\n",
       "      <th>prob2</th>\n",
       "      <th>prob3</th>\n",
       "      <th>prob4</th>\n",
       "    </tr>\n",
       "  </thead>\n",
       "  <tbody>\n",
       "    <tr>\n",
       "      <th>0</th>\n",
       "      <td>Br.CC(N)Cc1ccc(O)cc1</td>\n",
       "      <td>&lt;rdkit.Chem.rdchem.Mol object at 0x17f273140&gt;</td>\n",
       "      <td>[0, 1, 0, 0, 0, 0, 0, 0, 0, 0, 0, 0, 0, 0, 0, ...</td>\n",
       "      <td>8.486177</td>\n",
       "      <td>5.127035</td>\n",
       "      <td>0.117005</td>\n",
       "      <td>0.241573</td>\n",
       "      <td>0.119706</td>\n",
       "      <td>0.197060</td>\n",
       "      <td>0.324655</td>\n",
       "    </tr>\n",
       "    <tr>\n",
       "      <th>1</th>\n",
       "      <td>Br.CC(NC(C)(C)C)C(=O)c1cccc(Cl)c1</td>\n",
       "      <td>&lt;rdkit.Chem.rdchem.Mol object at 0x17f2725e0&gt;</td>\n",
       "      <td>[0, 1, 0, 0, 0, 0, 0, 0, 0, 0, 0, 0, 0, 0, 0, ...</td>\n",
       "      <td>9.875013</td>\n",
       "      <td>4.257200</td>\n",
       "      <td>0.046248</td>\n",
       "      <td>0.324113</td>\n",
       "      <td>0.203771</td>\n",
       "      <td>0.169230</td>\n",
       "      <td>0.256638</td>\n",
       "    </tr>\n",
       "    <tr>\n",
       "      <th>2</th>\n",
       "      <td>Br.CC1C2Cc3ccc(O)cc3C1(C)CCN2CCc1ccccc1</td>\n",
       "      <td>&lt;rdkit.Chem.rdchem.Mol object at 0x17f2710e0&gt;</td>\n",
       "      <td>[0, 0, 0, 0, 0, 0, 0, 0, 0, 0, 0, 0, 0, 0, 0, ...</td>\n",
       "      <td>8.827803</td>\n",
       "      <td>4.044406</td>\n",
       "      <td>0.162232</td>\n",
       "      <td>0.372045</td>\n",
       "      <td>0.187925</td>\n",
       "      <td>0.208073</td>\n",
       "      <td>0.069724</td>\n",
       "    </tr>\n",
       "    <tr>\n",
       "      <th>3</th>\n",
       "      <td>Br.CCN(c1cc(-c2ccc(CN3CCOCC3)cc2)cc(C(=O)NCc2c...</td>\n",
       "      <td>&lt;rdkit.Chem.rdchem.Mol object at 0x17f270040&gt;</td>\n",
       "      <td>[0, 0, 0, 0, 0, 0, 0, 0, 0, 0, 0, 0, 0, 0, 0, ...</td>\n",
       "      <td>9.965529</td>\n",
       "      <td>4.780724</td>\n",
       "      <td>0.275930</td>\n",
       "      <td>0.262057</td>\n",
       "      <td>0.035593</td>\n",
       "      <td>0.292248</td>\n",
       "      <td>0.134172</td>\n",
       "    </tr>\n",
       "    <tr>\n",
       "      <th>4</th>\n",
       "      <td>Br.CN(C)CCCC1(c2ccc(F)cc2)OCc2cc(C#N)ccc21</td>\n",
       "      <td>&lt;rdkit.Chem.rdchem.Mol object at 0x17f273ae0&gt;</td>\n",
       "      <td>[0, 0, 0, 0, 0, 0, 0, 0, 0, 0, 1, 0, 0, 0, 0, ...</td>\n",
       "      <td>10.303421</td>\n",
       "      <td>4.024837</td>\n",
       "      <td>0.106179</td>\n",
       "      <td>0.099227</td>\n",
       "      <td>0.328980</td>\n",
       "      <td>0.211405</td>\n",
       "      <td>0.254209</td>\n",
       "    </tr>\n",
       "  </tbody>\n",
       "</table>\n",
       "</div>"
      ],
      "text/plain": [
       "                                              smiles  \\\n",
       "0                               Br.CC(N)Cc1ccc(O)cc1   \n",
       "1                  Br.CC(NC(C)(C)C)C(=O)c1cccc(Cl)c1   \n",
       "2            Br.CC1C2Cc3ccc(O)cc3C1(C)CCN2CCc1ccccc1   \n",
       "3  Br.CCN(c1cc(-c2ccc(CN3CCOCC3)cc2)cc(C(=O)NCc2c...   \n",
       "4         Br.CN(C)CCCC1(c2ccc(F)cc2)OCc2cc(C#N)ccc21   \n",
       "\n",
       "                                             mol  \\\n",
       "0  <rdkit.Chem.rdchem.Mol object at 0x17f273140>   \n",
       "1  <rdkit.Chem.rdchem.Mol object at 0x17f2725e0>   \n",
       "2  <rdkit.Chem.rdchem.Mol object at 0x17f2710e0>   \n",
       "3  <rdkit.Chem.rdchem.Mol object at 0x17f270040>   \n",
       "4  <rdkit.Chem.rdchem.Mol object at 0x17f273ae0>   \n",
       "\n",
       "                                                  fp          x         y  \\\n",
       "0  [0, 1, 0, 0, 0, 0, 0, 0, 0, 0, 0, 0, 0, 0, 0, ...   8.486177  5.127035   \n",
       "1  [0, 1, 0, 0, 0, 0, 0, 0, 0, 0, 0, 0, 0, 0, 0, ...   9.875013  4.257200   \n",
       "2  [0, 0, 0, 0, 0, 0, 0, 0, 0, 0, 0, 0, 0, 0, 0, ...   8.827803  4.044406   \n",
       "3  [0, 0, 0, 0, 0, 0, 0, 0, 0, 0, 0, 0, 0, 0, 0, ...   9.965529  4.780724   \n",
       "4  [0, 0, 0, 0, 0, 0, 0, 0, 0, 0, 1, 0, 0, 0, 0, ...  10.303421  4.024837   \n",
       "\n",
       "      prob0     prob1     prob2     prob3     prob4  \n",
       "0  0.117005  0.241573  0.119706  0.197060  0.324655  \n",
       "1  0.046248  0.324113  0.203771  0.169230  0.256638  \n",
       "2  0.162232  0.372045  0.187925  0.208073  0.069724  \n",
       "3  0.275930  0.262057  0.035593  0.292248  0.134172  \n",
       "4  0.106179  0.099227  0.328980  0.211405  0.254209  "
      ]
     },
     "execution_count": 18,
     "metadata": {},
     "output_type": "execute_result"
    }
   ],
   "source": [
    "data = get_dummy_data()\n",
    "data.head()"
   ]
  },
  {
   "cell_type": "code",
   "execution_count": 43,
   "metadata": {},
   "outputs": [
    {
     "name": "stderr",
     "output_type": "stream",
     "text": [
      "\u001b[32m2023-09-18 09:57:53.952\u001b[0m | \u001b[1mINFO    \u001b[0m | \u001b[36mcluster_margin.cluster_margin\u001b[0m:\u001b[36mseed\u001b[0m:\u001b[36m84\u001b[0m - \u001b[1mSetting seed to 42\u001b[0m\n"
     ]
    }
   ],
   "source": [
    "cm=ClusterMargin(data, distance_threshold=0.5, iterations=10, km=100, k_batch = 5, verbose = True) "
   ]
  },
  {
   "cell_type": "code",
   "execution_count": 20,
   "metadata": {},
   "outputs": [
    {
     "data": {
      "text/plain": [
       "tensor([[0.2499, 0.2592, 0.1085, 0.2718, 0.1106],\n",
       "        [0.2205, 0.0942, 0.2912, 0.3452, 0.0489],\n",
       "        [0.2522, 0.1602, 0.2346, 0.1532, 0.2000]])"
      ]
     },
     "execution_count": 20,
     "metadata": {},
     "output_type": "execute_result"
    }
   ],
   "source": [
    "cm.predict_proba([10,4,2])"
   ]
  },
  {
   "cell_type": "code",
   "execution_count": 28,
   "metadata": {},
   "outputs": [
    {
     "name": "stderr",
     "output_type": "stream",
     "text": [
      "\u001b[32m2023-09-18 09:46:02.735\u001b[0m | \u001b[1mINFO    \u001b[0m | \u001b[36mcluster_margin.cluster_margin\u001b[0m:\u001b[36m_initialize_embedding\u001b[0m:\u001b[36m102\u001b[0m - \u001b[1mInitializing embedding, selected idxs : [1166  457  291 1398 1702  980  904 1407  605  937 1467 1927  410  954\n",
      "  408 1532  892 1604    5  336 1115  478 1917 1224 1822 1015  214 1785\n",
      " 1746 1281]\u001b[0m\n",
      "\u001b[32m2023-09-18 09:46:02.759\u001b[0m | \u001b[1mINFO    \u001b[0m | \u001b[36mcluster_margin.cluster_margin\u001b[0m:\u001b[36mget_M\u001b[0m:\u001b[36m119\u001b[0m - \u001b[1mPredicted probabilities for unlabelled idxs tensor([[0.3899, 0.2949, 0.0846, 0.1269, 0.1037],\n",
      "        [0.1318, 0.1735, 0.0774, 0.4338, 0.1834],\n",
      "        [0.3567, 0.1589, 0.1181, 0.2167, 0.1496],\n",
      "        ...,\n",
      "        [0.2837, 0.0461, 0.4362, 0.2141, 0.0200],\n",
      "        [0.1394, 0.2491, 0.0582, 0.1826, 0.3708],\n",
      "        [0.1370, 0.3192, 0.1732, 0.1616, 0.2089]]) \u001b[0m\n"
     ]
    },
    {
     "data": {
      "text/plain": [
       "[1713, 1895, 587, 961, 489]"
      ]
     },
     "execution_count": 28,
     "metadata": {},
     "output_type": "execute_result"
    }
   ],
   "source": [
    "cm._first_iteration=True\n",
    "cm._do_iteration()"
   ]
  },
  {
   "cell_type": "code",
   "execution_count": 23,
   "metadata": {},
   "outputs": [
    {
     "data": {
      "text/plain": [
       "30"
      ]
     },
     "execution_count": 23,
     "metadata": {},
     "output_type": "execute_result"
    }
   ],
   "source": [
    "len(cm.labelled_idxs)"
   ]
  },
  {
   "cell_type": "code",
   "execution_count": 45,
   "metadata": {},
   "outputs": [
    {
     "name": "stderr",
     "output_type": "stream",
     "text": [
      "\u001b[32m2023-09-18 09:58:09.511\u001b[0m | \u001b[1mINFO    \u001b[0m | \u001b[36mcluster_margin.cluster_margin\u001b[0m:\u001b[36m_do_iteration\u001b[0m:\u001b[36m169\u001b[0m - \u001b[1mStarting iteration 1\u001b[0m\n",
      "\u001b[32m2023-09-18 09:58:09.512\u001b[0m | \u001b[1mINFO    \u001b[0m | \u001b[36mcluster_margin.cluster_margin\u001b[0m:\u001b[36mpredict_proba\u001b[0m:\u001b[36m114\u001b[0m - \u001b[1mPredicting probabilities for idxs [   0    1    2 ... 1932 1933 1934]\u001b[0m\n",
      "\u001b[32m2023-09-18 09:58:09.513\u001b[0m | \u001b[1mINFO    \u001b[0m | \u001b[36mcluster_margin.cluster_margin\u001b[0m:\u001b[36mget_M\u001b[0m:\u001b[36m121\u001b[0m - \u001b[1mPredicted probabilities for unlabelled idxs tensor([[0.1643, 0.1963, 0.0977, 0.2532, 0.2885],\n",
      "        [0.2901, 0.0154, 0.1552, 0.2670, 0.2722],\n",
      "        [0.1096, 0.2454, 0.2578, 0.1383, 0.2489],\n",
      "        ...,\n",
      "        [0.1888, 0.2527, 0.1783, 0.1368, 0.2435],\n",
      "        [0.0424, 0.3736, 0.1926, 0.0187, 0.3727],\n",
      "        [0.2201, 0.2133, 0.1494, 0.1843, 0.2329]]) \u001b[0m\n",
      "\u001b[32m2023-09-18 09:58:09.514\u001b[0m | \u001b[1mINFO    \u001b[0m | \u001b[36mcluster_margin.cluster_margin\u001b[0m:\u001b[36mget_M\u001b[0m:\u001b[36m131\u001b[0m - \u001b[1mQuerying idxs [ 856 1929 1484 1339 1426  711  792  626  192 1755  348 1667  297  716\n",
      "  813  982 1847 1858  645   88 1772 1245  733 1539 1506  745  764  493\n",
      " 1933 1461 1565 1352 1503 1000  696 1074 1429 1630  160 1356  577 1411\n",
      " 1710  312  654 1562   86  102 1401  624 1556  440 1183   45 1746   55\n",
      " 1701  931 1924  646 1893  304  614  409  151  199  699  890  588 1265\n",
      " 1016 1657  462 1266 1582  590  503 1296  391  744 1435 1899  619  362\n",
      " 1765 1166   95  410   58 1397 1184 1473  978  341 1392  853  482 1358\n",
      "  272 1844]\u001b[0m\n",
      "\u001b[32m2023-09-18 09:58:09.515\u001b[0m | \u001b[1mINFO    \u001b[0m | \u001b[36mcluster_margin.cluster_margin\u001b[0m:\u001b[36m_get_sorted_cluster_list\u001b[0m:\u001b[36m144\u001b[0m - \u001b[1mSorted cluster list [[614], [978], [462], [1755], [1266], [890], [348], [88], [1397], [1701], [1893], [1710], [590], [645], [1411], [1392], [440], [297], [58], [1356], [744], [1074], [733], [1539], [304, 95], [493, 699], [102, 1166], [626, 1667], [362, 341], [1352, 151], [1461, 1296], [792, 1401], [716, 482], [503, 1358], [45, 646], [1426, 588], [409, 410], [391, 1765], [711, 1503, 577], [1562, 624, 1899], [160, 1435, 619], [1000, 312, 1556], [1858, 199, 1184], [1339, 192, 813], [745, 696, 86, 1657], [1429, 1183, 55, 1265, 272], [1484, 982, 1245, 1016, 1844], [856, 764, 1933, 654, 931, 853], [1929, 1847, 1772, 1506, 1565, 1630, 1746, 1924, 1582, 1473]]\u001b[0m\n",
      "\u001b[32m2023-09-18 09:58:09.515\u001b[0m | \u001b[1mINFO    \u001b[0m | \u001b[36mcluster_margin.cluster_margin\u001b[0m:\u001b[36mround_robin_sampling\u001b[0m:\u001b[36m147\u001b[0m - \u001b[1mRound robin sampling\u001b[0m\n",
      "\u001b[32m2023-09-18 09:58:09.515\u001b[0m | \u001b[1mINFO    \u001b[0m | \u001b[36mcluster_margin.cluster_margin\u001b[0m:\u001b[36mupdate\u001b[0m:\u001b[36m166\u001b[0m - \u001b[1mNew len labelled idxs 40\u001b[0m\n"
     ]
    },
    {
     "data": {
      "text/plain": [
       "[614, 978, 462, 1755, 1266]"
      ]
     },
     "execution_count": 45,
     "metadata": {},
     "output_type": "execute_result"
    }
   ],
   "source": [
    "\n",
    "cm.query()"
   ]
  },
  {
   "cell_type": "code",
   "execution_count": 36,
   "metadata": {},
   "outputs": [
    {
     "name": "stderr",
     "output_type": "stream",
     "text": [
      "\u001b[32m2023-09-18 09:50:01.956\u001b[0m | \u001b[1mINFO    \u001b[0m | \u001b[36mcluster_margin.cluster_margin\u001b[0m:\u001b[36mget_M\u001b[0m:\u001b[36m119\u001b[0m - \u001b[1mPredicted probabilities for unlabelled idxs tensor([[0.3420, 0.0044, 0.0971, 0.0584, 0.4980],\n",
      "        [0.2446, 0.1090, 0.2635, 0.3779, 0.0050],\n",
      "        [0.1222, 0.4513, 0.3044, 0.0460, 0.0762],\n",
      "        ...,\n",
      "        [0.0845, 0.2947, 0.1726, 0.1330, 0.3151],\n",
      "        [0.2317, 0.0978, 0.3202, 0.1953, 0.1550],\n",
      "        [0.3096, 0.3366, 0.0106, 0.3208, 0.0223]]) \u001b[0m\n",
      "\u001b[32m2023-09-18 09:50:01.957\u001b[0m | \u001b[1mINFO    \u001b[0m | \u001b[36mcluster_margin.cluster_margin\u001b[0m:\u001b[36mupdate\u001b[0m:\u001b[36m159\u001b[0m - \u001b[1mUpdating labelled idxs with [302, 585, 375, 481, 660]\u001b[0m\n",
      "\u001b[32m2023-09-18 09:50:01.958\u001b[0m | \u001b[1mINFO    \u001b[0m | \u001b[36mcluster_margin.cluster_margin\u001b[0m:\u001b[36mupdate\u001b[0m:\u001b[36m161\u001b[0m - \u001b[1mNew len labelled idxs 50\u001b[0m\n"
     ]
    },
    {
     "data": {
      "text/plain": [
       "[302, 585, 375, 481, 660]"
      ]
     },
     "execution_count": 36,
     "metadata": {},
     "output_type": "execute_result"
    }
   ],
   "source": [
    "cm.query()"
   ]
  },
  {
   "cell_type": "code",
   "execution_count": 37,
   "metadata": {},
   "outputs": [
    {
     "data": {
      "text/plain": [
       "array([1541, 1828, 1408, 1694,  416,  112,  399, 1160,  144, 1406,  623,\n",
       "        975, 1622, 1240,  466,  685,  123,  951, 1729,  592,  509, 1286,\n",
       "       1130,  735,   53,   95,  344, 1011,   21,  851,   93, 1655, 1321,\n",
       "       1789,  292, 1202, 1801, 1439,  875,  333,  786, 1768,  722,  462,\n",
       "        636,  302,  585,  375,  481,  660])"
      ]
     },
     "execution_count": 37,
     "metadata": {},
     "output_type": "execute_result"
    }
   ],
   "source": [
    "cm.labelled_idxs"
   ]
  },
  {
   "cell_type": "code",
   "execution_count": 38,
   "metadata": {},
   "outputs": [
    {
     "name": "stderr",
     "output_type": "stream",
     "text": [
      "\u001b[32m2023-09-18 09:52:33.853\u001b[0m | \u001b[1mINFO    \u001b[0m | \u001b[36mcluster_margin.cluster_margin\u001b[0m:\u001b[36mseed\u001b[0m:\u001b[36m83\u001b[0m - \u001b[1mSetting seed to 42\u001b[0m\n"
     ]
    }
   ],
   "source": [
    "cm=ClusterMargin(data, distance_threshold=0.5, iterations=10, km=100, k_batch = 5) "
   ]
  },
  {
   "cell_type": "code",
   "execution_count": 46,
   "metadata": {},
   "outputs": [
    {
     "name": "stderr",
     "output_type": "stream",
     "text": [
      "\u001b[32m2023-09-18 09:58:43.094\u001b[0m | \u001b[1mINFO    \u001b[0m | \u001b[36mcluster_margin.cluster_margin\u001b[0m:\u001b[36m_do_iteration\u001b[0m:\u001b[36m169\u001b[0m - \u001b[1mStarting iteration 2\u001b[0m\n",
      "\u001b[32m2023-09-18 09:58:43.096\u001b[0m | \u001b[1mINFO    \u001b[0m | \u001b[36mcluster_margin.cluster_margin\u001b[0m:\u001b[36mpredict_proba\u001b[0m:\u001b[36m114\u001b[0m - \u001b[1mPredicting probabilities for idxs [   0    1    2 ... 1932 1933 1934]\u001b[0m\n",
      "\u001b[32m2023-09-18 09:58:43.098\u001b[0m | \u001b[1mINFO    \u001b[0m | \u001b[36mcluster_margin.cluster_margin\u001b[0m:\u001b[36mget_M\u001b[0m:\u001b[36m121\u001b[0m - \u001b[1mPredicted probabilities for unlabelled idxs tensor([[0.0030, 0.2477, 0.1882, 0.2286, 0.3325],\n",
      "        [0.2432, 0.1252, 0.1098, 0.2699, 0.2521],\n",
      "        [0.3089, 0.2440, 0.3037, 0.1117, 0.0317],\n",
      "        ...,\n",
      "        [0.2816, 0.3081, 0.1837, 0.0721, 0.1544],\n",
      "        [0.3186, 0.2624, 0.0984, 0.0512, 0.2693],\n",
      "        [0.2283, 0.2261, 0.0971, 0.2184, 0.2301]]) \u001b[0m\n",
      "\u001b[32m2023-09-18 09:58:43.100\u001b[0m | \u001b[1mINFO    \u001b[0m | \u001b[36mcluster_margin.cluster_margin\u001b[0m:\u001b[36mget_M\u001b[0m:\u001b[36m131\u001b[0m - \u001b[1mQuerying idxs [ 696  968   56 1514 1671  163 1835  323  137  209 1415 1828 1163 1257\n",
      "  661 1301 1568  157 1133  592  486  379   80  816  459 1151 1578 1010\n",
      "  313  655 1122  134 1843  675  128 1491 1331 1459 1934  221 1760 1599\n",
      "   45  756   88 1369 1503 1307 1027  689  410  500  470  439  737 1218\n",
      "    7  551 1559  708  893  804  327 1320 1479 1394 1170 1819  603 1142\n",
      " 1049 1547  224 1644  701  988 1518  335 1733 1630 1898 1604  472 1888\n",
      "   64 1728 1465 1097 1029 1900 1146 1367 1805  155   92 1893  938 1378\n",
      " 1070 1485]\u001b[0m\n",
      "\u001b[32m2023-09-18 09:58:43.100\u001b[0m | \u001b[1mINFO    \u001b[0m | \u001b[36mcluster_margin.cluster_margin\u001b[0m:\u001b[36m_get_sorted_cluster_list\u001b[0m:\u001b[36m144\u001b[0m - \u001b[1mSorted cluster list [[1934], [708], [1465], [701], [655], [221], [137], [128], [1459], [1142], [1671], [500], [1728], [1835], [323], [988], [737], [1307], [45], [439], [1301], [410], [1599], [696, 56], [313, 134], [163, 1097], [379, 1630], [157, 155], [661, 1122], [459, 1479], [1568, 335], [1218, 603], [1331, 470], [1369, 1367], [1170, 92], [327, 64], [816, 1900], [209, 1378], [592, 1503, 1070], [1559, 1898, 1893], [1415, 1133, 689], [968, 7, 1394], [1828, 675, 1805], [551, 1644, 472], [1320, 1888, 938], [1514, 1491, 1819, 1518], [88, 893, 804, 1049], [1257, 1760, 224, 1733], [80, 1027, 1604, 1029], [1151, 1578, 1843, 756], [1163, 486, 1010, 1547, 1146, 1485]]\u001b[0m\n",
      "\u001b[32m2023-09-18 09:58:43.100\u001b[0m | \u001b[1mINFO    \u001b[0m | \u001b[36mcluster_margin.cluster_margin\u001b[0m:\u001b[36mround_robin_sampling\u001b[0m:\u001b[36m147\u001b[0m - \u001b[1mRound robin sampling\u001b[0m\n",
      "\u001b[32m2023-09-18 09:58:43.101\u001b[0m | \u001b[1mINFO    \u001b[0m | \u001b[36mcluster_margin.cluster_margin\u001b[0m:\u001b[36mupdate\u001b[0m:\u001b[36m166\u001b[0m - \u001b[1mNew len labelled idxs 50\u001b[0m\n",
      "\u001b[32m2023-09-18 09:58:43.101\u001b[0m | \u001b[1mINFO    \u001b[0m | \u001b[36mcluster_margin.cluster_margin\u001b[0m:\u001b[36m_do_iteration\u001b[0m:\u001b[36m169\u001b[0m - \u001b[1mStarting iteration 3\u001b[0m\n",
      "\u001b[32m2023-09-18 09:58:43.101\u001b[0m | \u001b[1mINFO    \u001b[0m | \u001b[36mcluster_margin.cluster_margin\u001b[0m:\u001b[36mpredict_proba\u001b[0m:\u001b[36m114\u001b[0m - \u001b[1mPredicting probabilities for idxs [   0    1    2 ... 1931 1932 1933]\u001b[0m\n",
      "\u001b[32m2023-09-18 09:58:43.103\u001b[0m | \u001b[1mINFO    \u001b[0m | \u001b[36mcluster_margin.cluster_margin\u001b[0m:\u001b[36mget_M\u001b[0m:\u001b[36m121\u001b[0m - \u001b[1mPredicted probabilities for unlabelled idxs tensor([[0.2384, 0.2607, 0.0108, 0.2575, 0.2327],\n",
      "        [0.2264, 0.2627, 0.1937, 0.0646, 0.2525],\n",
      "        [0.1922, 0.3819, 0.0971, 0.2709, 0.0578],\n",
      "        ...,\n",
      "        [0.2749, 0.1408, 0.2989, 0.1384, 0.1470],\n",
      "        [0.1855, 0.1509, 0.1874, 0.2334, 0.2428],\n",
      "        [0.4352, 0.0990, 0.0481, 0.2779, 0.1398]]) \u001b[0m\n",
      "\u001b[32m2023-09-18 09:58:43.103\u001b[0m | \u001b[1mINFO    \u001b[0m | \u001b[36mcluster_margin.cluster_margin\u001b[0m:\u001b[36mget_M\u001b[0m:\u001b[36m131\u001b[0m - \u001b[1mQuerying idxs [1294  894 1003 1130  166 1091 1292 1099   16 1236 1571  361  487 1024\n",
      " 1722  188  891 1744 1742 1651 1564 1305  829  774  725 1702 1257  289\n",
      " 1279  966 1045  316  502 1275 1386 1247 1701  586 1450  760 1379   38\n",
      "  516  842  356  818  143 1583  621 1602 1790 1693  739 1382 1378 1476\n",
      "  407 1597  410  124   70 1471  510  750    0   88  346  569  624 1049\n",
      "  302   40  315  492   66  138  314 1263  528 1887  745  411  162  813\n",
      "  249 1560 1535  994  657 1410  300  332  914  780 1896  853  341  826\n",
      " 1131  404]\u001b[0m\n",
      "\u001b[32m2023-09-18 09:58:43.104\u001b[0m | \u001b[1mINFO    \u001b[0m | \u001b[36mcluster_margin.cluster_margin\u001b[0m:\u001b[36m_get_sorted_cluster_list\u001b[0m:\u001b[36m144\u001b[0m - \u001b[1mSorted cluster list [[1896], [16], [289], [1382], [1236], [162], [760], [40], [1045], [914], [1450], [492], [1693], [1535], [1571], [1701], [341], [404], [70], [774], [1790], [1564], [487], [1471], [66], [894], [780], [1651], [829], [1024], [621], [300], [528], [725], [1583], [124, 826], [1386, 569], [302, 249], [1292, 516], [624, 1131], [739, 0], [1091, 1476], [88, 1049], [1702, 138], [1003, 361], [891, 143], [1247, 510], [1279, 750], [1257, 966], [356, 853], [346, 332], [1379, 1378], [842, 994], [502, 657], [1722, 1305], [1597, 813], [1275, 586, 745], [1744, 1742, 315], [1602, 1560, 1410], [1294, 166, 1099], [407, 410, 411], [1130, 38, 818, 1263], [188, 316, 314, 1887]]\u001b[0m\n",
      "\u001b[32m2023-09-18 09:58:43.105\u001b[0m | \u001b[1mINFO    \u001b[0m | \u001b[36mcluster_margin.cluster_margin\u001b[0m:\u001b[36mround_robin_sampling\u001b[0m:\u001b[36m147\u001b[0m - \u001b[1mRound robin sampling\u001b[0m\n",
      "\u001b[32m2023-09-18 09:58:43.106\u001b[0m | \u001b[1mINFO    \u001b[0m | \u001b[36mcluster_margin.cluster_margin\u001b[0m:\u001b[36mupdate\u001b[0m:\u001b[36m166\u001b[0m - \u001b[1mNew len labelled idxs 60\u001b[0m\n",
      "\u001b[32m2023-09-18 09:58:43.106\u001b[0m | \u001b[1mINFO    \u001b[0m | \u001b[36mcluster_margin.cluster_margin\u001b[0m:\u001b[36m_do_iteration\u001b[0m:\u001b[36m169\u001b[0m - \u001b[1mStarting iteration 4\u001b[0m\n",
      "\u001b[32m2023-09-18 09:58:43.107\u001b[0m | \u001b[1mINFO    \u001b[0m | \u001b[36mcluster_margin.cluster_margin\u001b[0m:\u001b[36mpredict_proba\u001b[0m:\u001b[36m114\u001b[0m - \u001b[1mPredicting probabilities for idxs [   0    1    2 ... 1931 1932 1933]\u001b[0m\n",
      "\u001b[32m2023-09-18 09:58:43.109\u001b[0m | \u001b[1mINFO    \u001b[0m | \u001b[36mcluster_margin.cluster_margin\u001b[0m:\u001b[36mget_M\u001b[0m:\u001b[36m121\u001b[0m - \u001b[1mPredicted probabilities for unlabelled idxs tensor([[0.0583, 0.4097, 0.2179, 0.1882, 0.1259],\n",
      "        [0.3305, 0.0697, 0.3530, 0.1120, 0.1348],\n",
      "        [0.2147, 0.3317, 0.0806, 0.2979, 0.0751],\n",
      "        ...,\n",
      "        [0.3368, 0.3518, 0.2308, 0.0119, 0.0687],\n",
      "        [0.2446, 0.2842, 0.2258, 0.0373, 0.2080],\n",
      "        [0.3193, 0.0788, 0.3289, 0.1891, 0.0839]]) \u001b[0m\n",
      "\u001b[32m2023-09-18 09:58:43.109\u001b[0m | \u001b[1mINFO    \u001b[0m | \u001b[36mcluster_margin.cluster_margin\u001b[0m:\u001b[36mget_M\u001b[0m:\u001b[36m131\u001b[0m - \u001b[1mQuerying idxs [ 293  152  646  991 1127  519  549  650 1150 1291 1148  160  173 1899\n",
      " 1541 1498 1422  220  557 1109 1344  721 1445 1754  524  552  551    6\n",
      " 1264 1353  300  103 1633  649 1877  298 1690  896 1576  436 1243 1614\n",
      " 1183 1479  562  842 1078  547  259 1826 1664 1554 1724 1516 1798  514\n",
      "  731   66 1490  707  979  688 1189  270  476  115 1251 1274 1532 1130\n",
      " 1294 1563 1884 1219  985  862  628  470  850 1430  410  215 1811 1773\n",
      " 1578 1453  642  564  595 1646  311  870 1140  505 1650  692 1707  601\n",
      "  798  658]\u001b[0m\n",
      "\u001b[32m2023-09-18 09:58:43.110\u001b[0m | \u001b[1mINFO    \u001b[0m | \u001b[36mcluster_margin.cluster_margin\u001b[0m:\u001b[36m_get_sorted_cluster_list\u001b[0m:\u001b[36m144\u001b[0m - \u001b[1mSorted cluster list [[1826], [1078], [1479], [649], [1754], [1690], [798], [870], [1724], [1811], [1189], [115], [514], [979], [1516], [1576], [6], [658], [985], [991], [66], [552], [862], [1264], [549], [842], [1650], [1109], [646], [1554], [1633], [519], [300], [731], [896], [1127, 850], [1490, 505], [152, 1291], [1899, 601], [1251, 1140], [650, 1445], [1884, 1773], [551, 1532], [1664, 1798], [642, 1646], [173, 1353], [1294, 311], [1219, 410], [259, 476, 1274], [1150, 103, 1243], [1877, 298, 270], [293, 220, 215], [1344, 721, 470], [1541, 1614, 1563], [436, 1578, 1707], [160, 1422, 707, 688], [557, 524, 562, 547, 628, 564, 595], [1148, 1498, 1183, 1130, 1430, 1453, 692]]\u001b[0m\n",
      "\u001b[32m2023-09-18 09:58:43.110\u001b[0m | \u001b[1mINFO    \u001b[0m | \u001b[36mcluster_margin.cluster_margin\u001b[0m:\u001b[36mround_robin_sampling\u001b[0m:\u001b[36m147\u001b[0m - \u001b[1mRound robin sampling\u001b[0m\n",
      "\u001b[32m2023-09-18 09:58:43.110\u001b[0m | \u001b[1mINFO    \u001b[0m | \u001b[36mcluster_margin.cluster_margin\u001b[0m:\u001b[36mupdate\u001b[0m:\u001b[36m166\u001b[0m - \u001b[1mNew len labelled idxs 70\u001b[0m\n",
      "\u001b[32m2023-09-18 09:58:43.111\u001b[0m | \u001b[1mINFO    \u001b[0m | \u001b[36mcluster_margin.cluster_margin\u001b[0m:\u001b[36m_do_iteration\u001b[0m:\u001b[36m169\u001b[0m - \u001b[1mStarting iteration 5\u001b[0m\n",
      "\u001b[32m2023-09-18 09:58:43.111\u001b[0m | \u001b[1mINFO    \u001b[0m | \u001b[36mcluster_margin.cluster_margin\u001b[0m:\u001b[36mpredict_proba\u001b[0m:\u001b[36m114\u001b[0m - \u001b[1mPredicting probabilities for idxs [   0    1    2 ... 1931 1932 1933]\u001b[0m\n",
      "\u001b[32m2023-09-18 09:58:43.112\u001b[0m | \u001b[1mINFO    \u001b[0m | \u001b[36mcluster_margin.cluster_margin\u001b[0m:\u001b[36mget_M\u001b[0m:\u001b[36m121\u001b[0m - \u001b[1mPredicted probabilities for unlabelled idxs tensor([[0.3704, 0.0744, 0.1712, 0.2025, 0.1815],\n",
      "        [0.0657, 0.3530, 0.1669, 0.3885, 0.0258],\n",
      "        [0.1705, 0.2478, 0.0792, 0.3101, 0.1924],\n",
      "        ...,\n",
      "        [0.0083, 0.1252, 0.3975, 0.1035, 0.3654],\n",
      "        [0.1058, 0.3369, 0.2681, 0.2637, 0.0254],\n",
      "        [0.2699, 0.0039, 0.1441, 0.3086, 0.2735]]) \u001b[0m\n",
      "\u001b[32m2023-09-18 09:58:43.113\u001b[0m | \u001b[1mINFO    \u001b[0m | \u001b[36mcluster_margin.cluster_margin\u001b[0m:\u001b[36mget_M\u001b[0m:\u001b[36m131\u001b[0m - \u001b[1mQuerying idxs [ 479 1718 1475 1750 1628  134 1721 1809 1098 1703  497 1840   19  535\n",
      " 1894  159 1365 1100  611  386  800 1015  668  698  566 1905 1807  943\n",
      " 1217  583  613 1781  696  834 1229 1717 1875  315   52 1226 1152  459\n",
      "  153  215 1284  654  756  631 1224  111 1823 1508 1506 1368 1567 1362\n",
      "  126  761  430  461  275  753 1815  925 1681 1888 1408 1593 1421    9\n",
      " 1784 1539   24 1502 1348 1544  642  681 1193 1253  241 1729  475  630\n",
      "  804  736  871  522  260  772   35 1053 1353  928 1228  680  722   69\n",
      "  799  145]\u001b[0m\n",
      "\u001b[32m2023-09-18 09:58:43.113\u001b[0m | \u001b[1mINFO    \u001b[0m | \u001b[36mcluster_margin.cluster_margin\u001b[0m:\u001b[36m_get_sorted_cluster_list\u001b[0m:\u001b[36m144\u001b[0m - \u001b[1mSorted cluster list [[134], [722], [1224], [1362], [1053], [430], [1894], [459], [681], [497], [315], [1823], [35], [1718], [1098], [943], [1703], [583], [1729], [111], [642], [1348], [1875], [1284], [1100], [1888], [1593], [1539], [1506, 1784], [804, 799], [1544, 871], [24, 69], [153, 145], [386, 800], [1809, 1840], [1807, 1681], [1905, 654], [159, 461], [1721, 1781], [241, 1353], [756, 1408], [696, 834, 260], [9, 736, 772], [215, 1228, 680], [19, 1365, 1368], [1750, 1628, 126], [1229, 1717, 1226, 1193], [535, 566, 1502, 522], [631, 1508, 761, 630], [479, 52, 275, 928], [611, 1015, 1567, 925, 475], [1475, 1217, 613, 753, 1421], [668, 698, 1152, 1815, 1253]]\u001b[0m\n",
      "\u001b[32m2023-09-18 09:58:43.114\u001b[0m | \u001b[1mINFO    \u001b[0m | \u001b[36mcluster_margin.cluster_margin\u001b[0m:\u001b[36mround_robin_sampling\u001b[0m:\u001b[36m147\u001b[0m - \u001b[1mRound robin sampling\u001b[0m\n",
      "\u001b[32m2023-09-18 09:58:43.114\u001b[0m | \u001b[1mINFO    \u001b[0m | \u001b[36mcluster_margin.cluster_margin\u001b[0m:\u001b[36mupdate\u001b[0m:\u001b[36m166\u001b[0m - \u001b[1mNew len labelled idxs 80\u001b[0m\n",
      "\u001b[32m2023-09-18 09:58:43.114\u001b[0m | \u001b[1mINFO    \u001b[0m | \u001b[36mcluster_margin.cluster_margin\u001b[0m:\u001b[36m_do_iteration\u001b[0m:\u001b[36m169\u001b[0m - \u001b[1mStarting iteration 6\u001b[0m\n",
      "\u001b[32m2023-09-18 09:58:43.114\u001b[0m | \u001b[1mINFO    \u001b[0m | \u001b[36mcluster_margin.cluster_margin\u001b[0m:\u001b[36mpredict_proba\u001b[0m:\u001b[36m114\u001b[0m - \u001b[1mPredicting probabilities for idxs [   0    1    2 ... 1931 1932 1933]\u001b[0m\n",
      "\u001b[32m2023-09-18 09:58:43.116\u001b[0m | \u001b[1mINFO    \u001b[0m | \u001b[36mcluster_margin.cluster_margin\u001b[0m:\u001b[36mget_M\u001b[0m:\u001b[36m121\u001b[0m - \u001b[1mPredicted probabilities for unlabelled idxs tensor([[0.0661, 0.3589, 0.1780, 0.3555, 0.0415],\n",
      "        [0.3359, 0.1485, 0.1394, 0.1672, 0.2091],\n",
      "        [0.2770, 0.2028, 0.0997, 0.0883, 0.3322],\n",
      "        ...,\n",
      "        [0.2421, 0.1888, 0.0827, 0.2698, 0.2167],\n",
      "        [0.2581, 0.2846, 0.2290, 0.1203, 0.1081],\n",
      "        [0.0129, 0.3053, 0.3108, 0.2591, 0.1118]]) \u001b[0m\n",
      "\u001b[32m2023-09-18 09:58:43.117\u001b[0m | \u001b[1mINFO    \u001b[0m | \u001b[36mcluster_margin.cluster_margin\u001b[0m:\u001b[36mget_M\u001b[0m:\u001b[36m131\u001b[0m - \u001b[1mQuerying idxs [1531 1901 1549 1128 1419 1748 1440 1104  814  355  503  566  450  256\n",
      "   72 1892 1567 1024  644 1191  412  477  917 1356  970 1407 1359 1630\n",
      "  191 1195  524 1874  826  561 1401  193 1914  868 1299 1592  183 1332\n",
      "  995 1747  605 1601  340  212  466   98  595 1769  968 1442   28 1222\n",
      " 1220  178 1393 1656 1343 1051 1627  168  933  506 1373 1535 1693  706\n",
      " 1513  905   22 1704 1453 1536    0 1322   45  765  393 1790 1751 1502\n",
      " 1167  504  444 1867 1586  863 1235 1416 1526  597  774 1620  146  992\n",
      " 1351  550]\u001b[0m\n",
      "\u001b[32m2023-09-18 09:58:43.117\u001b[0m | \u001b[1mINFO    \u001b[0m | \u001b[36mcluster_margin.cluster_margin\u001b[0m:\u001b[36m_get_sorted_cluster_list\u001b[0m:\u001b[36m144\u001b[0m - \u001b[1mSorted cluster list [[1627], [1630], [765], [597], [868], [1535], [1128], [1393], [1892], [22], [146], [992], [774], [1748], [477], [706], [968], [72], [1356], [183], [98], [45], [1407], [1656], [1104], [1024], [412], [1867], [1332], [1299, 1051], [450, 644], [917, 1693], [28, 1373], [905, 1790], [355, 933], [256, 1401], [814, 605], [1874, 1526], [503, 1359], [444, 1416], [1222, 1220], [1592, 1586], [1191, 826, 212], [466, 504, 1351], [178, 0, 1235], [191, 1195, 1167], [193, 995, 1601], [1901, 1914, 1704], [1747, 1769, 1343, 506], [1567, 1442, 1536, 1751], [1419, 340, 1322, 393], [970, 168, 1513, 863], [1531, 1549, 1440, 1453, 1620], [566, 524, 561, 595, 1502, 550]]\u001b[0m\n",
      "\u001b[32m2023-09-18 09:58:43.117\u001b[0m | \u001b[1mINFO    \u001b[0m | \u001b[36mcluster_margin.cluster_margin\u001b[0m:\u001b[36mround_robin_sampling\u001b[0m:\u001b[36m147\u001b[0m - \u001b[1mRound robin sampling\u001b[0m\n",
      "\u001b[32m2023-09-18 09:58:43.117\u001b[0m | \u001b[1mINFO    \u001b[0m | \u001b[36mcluster_margin.cluster_margin\u001b[0m:\u001b[36mupdate\u001b[0m:\u001b[36m166\u001b[0m - \u001b[1mNew len labelled idxs 90\u001b[0m\n",
      "\u001b[32m2023-09-18 09:58:43.118\u001b[0m | \u001b[1mINFO    \u001b[0m | \u001b[36mcluster_margin.cluster_margin\u001b[0m:\u001b[36m_do_iteration\u001b[0m:\u001b[36m169\u001b[0m - \u001b[1mStarting iteration 7\u001b[0m\n",
      "\u001b[32m2023-09-18 09:58:43.118\u001b[0m | \u001b[1mINFO    \u001b[0m | \u001b[36mcluster_margin.cluster_margin\u001b[0m:\u001b[36mpredict_proba\u001b[0m:\u001b[36m114\u001b[0m - \u001b[1mPredicting probabilities for idxs [   0    1    2 ... 1931 1932 1933]\u001b[0m\n",
      "\u001b[32m2023-09-18 09:58:43.119\u001b[0m | \u001b[1mINFO    \u001b[0m | \u001b[36mcluster_margin.cluster_margin\u001b[0m:\u001b[36mget_M\u001b[0m:\u001b[36m121\u001b[0m - \u001b[1mPredicted probabilities for unlabelled idxs tensor([[0.1257, 0.0817, 0.3525, 0.3579, 0.0822],\n",
      "        [0.2435, 0.2436, 0.2295, 0.0897, 0.1937],\n",
      "        [0.2917, 0.1377, 0.1979, 0.2328, 0.1399],\n",
      "        ...,\n",
      "        [0.2925, 0.3545, 0.2364, 0.0885, 0.0281],\n",
      "        [0.0777, 0.2880, 0.2499, 0.3410, 0.0435],\n",
      "        [0.3748, 0.1164, 0.0468, 0.1237, 0.3383]]) \u001b[0m\n",
      "\u001b[32m2023-09-18 09:58:43.120\u001b[0m | \u001b[1mINFO    \u001b[0m | \u001b[36mcluster_margin.cluster_margin\u001b[0m:\u001b[36mget_M\u001b[0m:\u001b[36m131\u001b[0m - \u001b[1mQuerying idxs [1233  181  994    1  781 1726 1322  577  603  344  554  685 1439  321\n",
      "  501 1584  741 1462 1717 1689 1551 1058  313 1751 1357  124 1560 1718\n",
      "  598  794  641  298  619 1629 1785 1451  102  905 1120 1670  491  279\n",
      "  844 1140  339 1921  821  364 1162  991  543  846  483 1310  772  814\n",
      " 1118  605 1846  576  732 1656  883 1141 1797  805  170 1327  687  566\n",
      " 1655 1040 1112   78 1279 1698  707 1205 1864  947  650  713 1032 1213\n",
      "   55  778  873  103 1446 1172 1241  858  561  412 1029 1252  642  699\n",
      "  247  324]\u001b[0m\n",
      "\u001b[32m2023-09-18 09:58:43.120\u001b[0m | \u001b[1mINFO    \u001b[0m | \u001b[36mcluster_margin.cluster_margin\u001b[0m:\u001b[36m_get_sorted_cluster_list\u001b[0m:\u001b[36m144\u001b[0m - \u001b[1mSorted cluster list [[313], [1655], [1751], [501], [598], [1689], [741], [554], [78], [905], [1040], [1279], [321], [883], [994], [821], [1656], [324], [1584], [1439, 1462], [1112, 1213], [1785, 543], [491, 699], [298, 1205], [576, 873], [279, 1327], [650, 1172], [1718, 713], [1560, 1629], [991, 1698], [781, 778], [814, 605], [1551, 1846], [170, 642], [1032, 1029], [687, 412], [1670, 732], [1233, 1717, 124], [577, 566, 561], [1120, 364, 947], [844, 846, 1797], [603, 102, 103], [483, 1310, 247], [619, 707, 1252], [1322, 339, 1241], [181, 1058, 1357], [1726, 1451, 858], [685, 794, 641, 1140], [1, 1921, 1118, 1864, 1446], [344, 1162, 772, 1141, 805, 55]]\u001b[0m\n",
      "\u001b[32m2023-09-18 09:58:43.120\u001b[0m | \u001b[1mINFO    \u001b[0m | \u001b[36mcluster_margin.cluster_margin\u001b[0m:\u001b[36mround_robin_sampling\u001b[0m:\u001b[36m147\u001b[0m - \u001b[1mRound robin sampling\u001b[0m\n",
      "\u001b[32m2023-09-18 09:58:43.121\u001b[0m | \u001b[1mINFO    \u001b[0m | \u001b[36mcluster_margin.cluster_margin\u001b[0m:\u001b[36mupdate\u001b[0m:\u001b[36m166\u001b[0m - \u001b[1mNew len labelled idxs 100\u001b[0m\n",
      "\u001b[32m2023-09-18 09:58:43.121\u001b[0m | \u001b[1mINFO    \u001b[0m | \u001b[36mcluster_margin.cluster_margin\u001b[0m:\u001b[36m_do_iteration\u001b[0m:\u001b[36m169\u001b[0m - \u001b[1mStarting iteration 8\u001b[0m\n",
      "\u001b[32m2023-09-18 09:58:43.121\u001b[0m | \u001b[1mINFO    \u001b[0m | \u001b[36mcluster_margin.cluster_margin\u001b[0m:\u001b[36mpredict_proba\u001b[0m:\u001b[36m114\u001b[0m - \u001b[1mPredicting probabilities for idxs [   0    1    2 ... 1931 1932 1933]\u001b[0m\n",
      "\u001b[32m2023-09-18 09:58:43.123\u001b[0m | \u001b[1mINFO    \u001b[0m | \u001b[36mcluster_margin.cluster_margin\u001b[0m:\u001b[36mget_M\u001b[0m:\u001b[36m121\u001b[0m - \u001b[1mPredicted probabilities for unlabelled idxs tensor([[0.2050, 0.1181, 0.3066, 0.1573, 0.2130],\n",
      "        [0.1694, 0.2583, 0.0600, 0.2433, 0.2690],\n",
      "        [0.1991, 0.2612, 0.1583, 0.0937, 0.2877],\n",
      "        ...,\n",
      "        [0.3333, 0.0534, 0.3557, 0.1404, 0.1172],\n",
      "        [0.2113, 0.1110, 0.3547, 0.1099, 0.2131],\n",
      "        [0.1425, 0.3132, 0.1363, 0.1660, 0.2420]]) \u001b[0m\n",
      "\u001b[32m2023-09-18 09:58:43.124\u001b[0m | \u001b[1mINFO    \u001b[0m | \u001b[36mcluster_margin.cluster_margin\u001b[0m:\u001b[36mget_M\u001b[0m:\u001b[36m131\u001b[0m - \u001b[1mQuerying idxs [  30 1810 1016  743 1129   90  692 1282  406 1272 1059 1902 1478  298\n",
      " 1928  473  344    4 1308  789  877 1821  100 1511  911  964 1656 1487\n",
      " 1793  764  432 1486 1442  925 1797 1561   82 1021  155 1586  142  319\n",
      "  147 1825 1570 1847  188 1304 1639  149 1065 1901  226  818 1030  986\n",
      "  812 1110 1612 1543 1707 1836 1466  247 1567 1218  930 1441 1363  662\n",
      "  227  693  938 1854 1025  941  422 1841 1551 1159  153 1343  639  881\n",
      "  474  390  756 1761  237 1193  994  596 1558  616 1471  540   63 1162\n",
      " 1515  335]\u001b[0m\n",
      "\u001b[32m2023-09-18 09:58:43.124\u001b[0m | \u001b[1mINFO    \u001b[0m | \u001b[36mcluster_margin.cluster_margin\u001b[0m:\u001b[36m_get_sorted_cluster_list\u001b[0m:\u001b[36m144\u001b[0m - \u001b[1mSorted cluster list [[1193], [540], [789], [155], [1797], [1218], [1570], [1487], [30], [247], [188], [1928], [474], [1821], [82], [1272], [764], [1901], [319], [227], [994], [1551], [1363], [1282], [1021], [147], [1561], [1656], [743], [406], [1110], [941], [1902], [237], [1586], [1059, 964], [1466, 616], [662, 596], [1639, 693], [149, 153], [911, 1854], [90, 63], [142, 1471], [877, 881], [473, 1841], [1308, 1304], [1030, 1025], [639, 390], [1810, 1065, 1343], [432, 1612, 1515], [1793, 930, 335], [298, 812, 1761], [226, 986, 1159], [1825, 1707, 756], [1478, 100, 1847, 1836], [1129, 692, 344, 818, 1162], [4, 1511, 1486, 1543, 938], [1016, 1442, 925, 1567, 1441, 422, 1558]]\u001b[0m\n",
      "\u001b[32m2023-09-18 09:58:43.124\u001b[0m | \u001b[1mINFO    \u001b[0m | \u001b[36mcluster_margin.cluster_margin\u001b[0m:\u001b[36mround_robin_sampling\u001b[0m:\u001b[36m147\u001b[0m - \u001b[1mRound robin sampling\u001b[0m\n",
      "\u001b[32m2023-09-18 09:58:43.124\u001b[0m | \u001b[1mINFO    \u001b[0m | \u001b[36mcluster_margin.cluster_margin\u001b[0m:\u001b[36mupdate\u001b[0m:\u001b[36m166\u001b[0m - \u001b[1mNew len labelled idxs 110\u001b[0m\n",
      "\u001b[32m2023-09-18 09:58:43.125\u001b[0m | \u001b[1mINFO    \u001b[0m | \u001b[36mcluster_margin.cluster_margin\u001b[0m:\u001b[36m_do_iteration\u001b[0m:\u001b[36m169\u001b[0m - \u001b[1mStarting iteration 9\u001b[0m\n",
      "\u001b[32m2023-09-18 09:58:43.125\u001b[0m | \u001b[1mINFO    \u001b[0m | \u001b[36mcluster_margin.cluster_margin\u001b[0m:\u001b[36mpredict_proba\u001b[0m:\u001b[36m114\u001b[0m - \u001b[1mPredicting probabilities for idxs [   0    1    2 ... 1931 1932 1933]\u001b[0m\n",
      "\u001b[32m2023-09-18 09:58:43.126\u001b[0m | \u001b[1mINFO    \u001b[0m | \u001b[36mcluster_margin.cluster_margin\u001b[0m:\u001b[36mget_M\u001b[0m:\u001b[36m121\u001b[0m - \u001b[1mPredicted probabilities for unlabelled idxs tensor([[0.2689, 0.1000, 0.2185, 0.2801, 0.1324],\n",
      "        [0.2909, 0.2042, 0.0092, 0.4056, 0.0900],\n",
      "        [0.3061, 0.1376, 0.1138, 0.4068, 0.0358],\n",
      "        ...,\n",
      "        [0.3963, 0.1786, 0.0952, 0.1212, 0.2087],\n",
      "        [0.1636, 0.3148, 0.0140, 0.1725, 0.3351],\n",
      "        [0.1448, 0.2790, 0.0516, 0.2870, 0.2376]]) \u001b[0m\n",
      "\u001b[32m2023-09-18 09:58:43.127\u001b[0m | \u001b[1mINFO    \u001b[0m | \u001b[36mcluster_margin.cluster_margin\u001b[0m:\u001b[36mget_M\u001b[0m:\u001b[36m131\u001b[0m - \u001b[1mQuerying idxs [1299  664  780 1383  339  258  200 1799  890 1878 1334   20 1257 1846\n",
      " 1470 1920 1786  641 1135 1024 1223 1401 1137  242  328  920  709 1502\n",
      " 1026  272 1210  285 1292  174  995  534 1273 1688  568 1867  673  377\n",
      " 1632  987 1510  918  343   49    6 1412 1877 1674  290 1577 1247 1883\n",
      " 1588  545  448 1225 1110 1256 1775 1895 1408  312  577  737   39  973\n",
      " 1151 1001  386 1112   65 1483   73  676 1545  936  713 1049  225  167\n",
      "  219  356 1235 1493 1440 1600  644  776  753  616   12 1790 1641  280\n",
      " 1813   75]\u001b[0m\n",
      "\u001b[32m2023-09-18 09:58:43.127\u001b[0m | \u001b[1mINFO    \u001b[0m | \u001b[36mcluster_margin.cluster_margin\u001b[0m:\u001b[36m_get_sorted_cluster_list\u001b[0m:\u001b[36m144\u001b[0m - \u001b[1mSorted cluster list [[242], [1920], [1225], [73], [1895], [1292], [1493], [936], [1235], [1688], [377], [219], [1786], [49], [386], [713], [1790], [1210], [6], [1813], [356], [65], [780], [1001], [1674], [174], [973], [1600], [258, 1483], [285, 1545], [1299, 1112], [1273, 644], [641, 1049], [20, 545], [1401, 448], [200, 534], [1846, 75], [167, 12], [1024, 1026], [1334, 1110], [1502, 568, 577], [1383, 1878, 1883], [890, 1223, 616], [664, 673, 1641], [918, 39, 753], [1799, 1877, 1588], [1470, 709, 1256], [1137, 995, 1247, 312], [339, 1257, 1577, 225], [343, 737, 676, 280], [1135, 328, 272, 1510, 1440], [920, 1867, 1412, 290, 1775], [1632, 987, 1408, 1151, 776]]\u001b[0m\n",
      "\u001b[32m2023-09-18 09:58:43.127\u001b[0m | \u001b[1mINFO    \u001b[0m | \u001b[36mcluster_margin.cluster_margin\u001b[0m:\u001b[36mround_robin_sampling\u001b[0m:\u001b[36m147\u001b[0m - \u001b[1mRound robin sampling\u001b[0m\n",
      "\u001b[32m2023-09-18 09:58:43.127\u001b[0m | \u001b[1mINFO    \u001b[0m | \u001b[36mcluster_margin.cluster_margin\u001b[0m:\u001b[36mupdate\u001b[0m:\u001b[36m166\u001b[0m - \u001b[1mNew len labelled idxs 120\u001b[0m\n"
     ]
    },
    {
     "name": "stdout",
     "output_type": "stream",
     "text": [
      "[1934, 708, 1465, 701, 655, 221, 137, 128, 1459, 1142]\n",
      "[1896, 16, 289, 1382, 1236, 162, 760, 40, 1045, 914]\n",
      "[1826, 1078, 1479, 649, 1754, 1690, 798, 870, 1724, 1811]\n",
      "[134, 722, 1224, 1362, 1053, 430, 1894, 459, 681, 497]\n",
      "[1627, 1630, 765, 597, 868, 1535, 1128, 1393, 1892, 22]\n",
      "[313, 1655, 1751, 501, 598, 1689, 741, 554, 78, 905]\n",
      "[1193, 540, 789, 155, 1797, 1218, 1570, 1487, 30, 247]\n",
      "[242, 1920, 1225, 73, 1895, 1292, 1493, 936, 1235, 1688]\n"
     ]
    }
   ],
   "source": [
    "for i in cm.query_iterator():\n",
    "    print(i)"
   ]
  },
  {
   "cell_type": "code",
   "execution_count": 41,
   "metadata": {},
   "outputs": [
    {
     "data": {
      "text/plain": [
       "130"
      ]
     },
     "execution_count": 41,
     "metadata": {},
     "output_type": "execute_result"
    }
   ],
   "source": [
    "len(cm.labelled_idxs)"
   ]
  },
  {
   "cell_type": "code",
   "execution_count": 42,
   "metadata": {},
   "outputs": [],
   "source": [
    "for i in cm: \n",
    "    print(i)"
   ]
  },
  {
   "cell_type": "code",
   "execution_count": null,
   "metadata": {},
   "outputs": [],
   "source": []
  }
 ],
 "metadata": {
  "kernelspec": {
   "display_name": "clustermargin",
   "language": "python",
   "name": "python3"
  },
  "language_info": {
   "codemirror_mode": {
    "name": "ipython",
    "version": 3
   },
   "file_extension": ".py",
   "mimetype": "text/x-python",
   "name": "python",
   "nbconvert_exporter": "python",
   "pygments_lexer": "ipython3",
   "version": "3.11.5"
  },
  "orig_nbformat": 4
 },
 "nbformat": 4,
 "nbformat_minor": 2
}
